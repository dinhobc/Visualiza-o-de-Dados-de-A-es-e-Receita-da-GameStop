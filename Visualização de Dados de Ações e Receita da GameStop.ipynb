{
 "cells": [
  {
   "cell_type": "code",
   "execution_count": 45,
   "id": "eafa8370-27a7-4b05-b08c-bdb0631f22f6",
   "metadata": {},
   "outputs": [
    {
     "name": "stdout",
     "output_type": "stream",
     "text": [
      "Requirement already satisfied: yfinance in c:\\users\\user\\appdata\\local\\programs\\python\\python313\\lib\\site-packages (0.2.52)\n",
      "Requirement already satisfied: pandas>=1.3.0 in c:\\users\\user\\appdata\\local\\programs\\python\\python313\\lib\\site-packages (from yfinance) (2.2.3)\n",
      "Requirement already satisfied: numpy>=1.16.5 in c:\\users\\user\\appdata\\local\\programs\\python\\python313\\lib\\site-packages (from yfinance) (2.2.1)\n",
      "Requirement already satisfied: requests>=2.31 in c:\\users\\user\\appdata\\local\\programs\\python\\python313\\lib\\site-packages (from yfinance) (2.32.3)\n",
      "Requirement already satisfied: multitasking>=0.0.7 in c:\\users\\user\\appdata\\local\\programs\\python\\python313\\lib\\site-packages (from yfinance) (0.0.11)\n",
      "Requirement already satisfied: lxml>=4.9.1 in c:\\users\\user\\appdata\\local\\programs\\python\\python313\\lib\\site-packages (from yfinance) (5.3.0)\n",
      "Requirement already satisfied: platformdirs>=2.0.0 in c:\\users\\user\\appdata\\local\\programs\\python\\python313\\lib\\site-packages (from yfinance) (4.3.6)\n",
      "Requirement already satisfied: pytz>=2022.5 in c:\\users\\user\\appdata\\local\\programs\\python\\python313\\lib\\site-packages (from yfinance) (2024.2)\n",
      "Requirement already satisfied: frozendict>=2.3.4 in c:\\users\\user\\appdata\\local\\programs\\python\\python313\\lib\\site-packages (from yfinance) (2.4.6)\n",
      "Requirement already satisfied: peewee>=3.16.2 in c:\\users\\user\\appdata\\local\\programs\\python\\python313\\lib\\site-packages (from yfinance) (3.17.8)\n",
      "Requirement already satisfied: beautifulsoup4>=4.11.1 in c:\\users\\user\\appdata\\local\\programs\\python\\python313\\lib\\site-packages (from yfinance) (4.12.3)\n",
      "Requirement already satisfied: html5lib>=1.1 in c:\\users\\user\\appdata\\local\\programs\\python\\python313\\lib\\site-packages (from yfinance) (1.1)\n",
      "Requirement already satisfied: soupsieve>1.2 in c:\\users\\user\\appdata\\local\\programs\\python\\python313\\lib\\site-packages (from beautifulsoup4>=4.11.1->yfinance) (2.6)\n",
      "Requirement already satisfied: six>=1.9 in c:\\users\\user\\appdata\\local\\programs\\python\\python313\\lib\\site-packages (from html5lib>=1.1->yfinance) (1.17.0)\n",
      "Requirement already satisfied: webencodings in c:\\users\\user\\appdata\\local\\programs\\python\\python313\\lib\\site-packages (from html5lib>=1.1->yfinance) (0.5.1)\n",
      "Requirement already satisfied: python-dateutil>=2.8.2 in c:\\users\\user\\appdata\\local\\programs\\python\\python313\\lib\\site-packages (from pandas>=1.3.0->yfinance) (2.9.0.post0)\n",
      "Requirement already satisfied: tzdata>=2022.7 in c:\\users\\user\\appdata\\local\\programs\\python\\python313\\lib\\site-packages (from pandas>=1.3.0->yfinance) (2024.2)\n",
      "Requirement already satisfied: charset-normalizer<4,>=2 in c:\\users\\user\\appdata\\local\\programs\\python\\python313\\lib\\site-packages (from requests>=2.31->yfinance) (3.4.1)\n",
      "Requirement already satisfied: idna<4,>=2.5 in c:\\users\\user\\appdata\\local\\programs\\python\\python313\\lib\\site-packages (from requests>=2.31->yfinance) (3.10)\n",
      "Requirement already satisfied: urllib3<3,>=1.21.1 in c:\\users\\user\\appdata\\local\\programs\\python\\python313\\lib\\site-packages (from requests>=2.31->yfinance) (2.3.0)\n",
      "Requirement already satisfied: certifi>=2017.4.17 in c:\\users\\user\\appdata\\local\\programs\\python\\python313\\lib\\site-packages (from requests>=2.31->yfinance) (2024.12.14)\n",
      "Note: you may need to restart the kernel to use updated packages.\n"
     ]
    }
   ],
   "source": [
    "pip install yfinance\n"
   ]
  },
  {
   "cell_type": "code",
   "execution_count": 46,
   "id": "b39a84a8-4656-4e7e-b6bc-9b4d6826e5d8",
   "metadata": {},
   "outputs": [],
   "source": [
    "import yfinance as yf\n",
    "import pandas as pd"
   ]
  },
  {
   "cell_type": "code",
   "execution_count": 47,
   "id": "46165704-4cdb-45d0-8ea9-301f9a9c7026",
   "metadata": {},
   "outputs": [
    {
     "name": "stderr",
     "output_type": "stream",
     "text": [
      "[*********************100%***********************]  1 of 1 completed\n"
     ]
    }
   ],
   "source": [
    "tesla_data = yf.download(\"TSLA\", start=\"2010-01-01\", end=\"2025-01-01\")"
   ]
  },
  {
   "cell_type": "code",
   "execution_count": 48,
   "id": "7961185f-2dc2-4b25-89e0-3eb08db78f05",
   "metadata": {
    "scrolled": true
   },
   "outputs": [
    {
     "name": "stdout",
     "output_type": "stream",
     "text": [
      "Price          Close      High       Low      Open     Volume\n",
      "Ticker          TSLA      TSLA      TSLA      TSLA       TSLA\n",
      "Date                                                         \n",
      "2010-06-29  1.592667  1.666667  1.169333  1.266667  281494500\n",
      "2010-06-30  1.588667  2.028000  1.553333  1.719333  257806500\n",
      "2010-07-01  1.464000  1.728000  1.351333  1.666667  123282000\n",
      "2010-07-02  1.280000  1.540000  1.247333  1.533333   77097000\n",
      "2010-07-06  1.074000  1.333333  1.055333  1.333333  103003500\n"
     ]
    }
   ],
   "source": [
    "print(tesla_data.head())"
   ]
  },
  {
   "cell_type": "code",
   "execution_count": 49,
   "id": "620addda-b423-4315-8d6f-86bc9398a35a",
   "metadata": {},
   "outputs": [],
   "source": [
    "tesla_data.to_csv(\"tesla_stock_data.csv\")"
   ]
  },
  {
   "cell_type": "code",
   "execution_count": 50,
   "id": "da82568e-5b7b-49fb-bba4-26d3258b4b29",
   "metadata": {},
   "outputs": [
    {
     "name": "stdout",
     "output_type": "stream",
     "text": [
      "Requirement already satisfied: requests in c:\\users\\user\\appdata\\local\\programs\\python\\python313\\lib\\site-packages (2.32.3)\n",
      "Requirement already satisfied: beautifulsoup4 in c:\\users\\user\\appdata\\local\\programs\\python\\python313\\lib\\site-packages (4.12.3)\n",
      "Requirement already satisfied: pandas in c:\\users\\user\\appdata\\local\\programs\\python\\python313\\lib\\site-packages (2.2.3)\n",
      "Requirement already satisfied: charset-normalizer<4,>=2 in c:\\users\\user\\appdata\\local\\programs\\python\\python313\\lib\\site-packages (from requests) (3.4.1)\n",
      "Requirement already satisfied: idna<4,>=2.5 in c:\\users\\user\\appdata\\local\\programs\\python\\python313\\lib\\site-packages (from requests) (3.10)\n",
      "Requirement already satisfied: urllib3<3,>=1.21.1 in c:\\users\\user\\appdata\\local\\programs\\python\\python313\\lib\\site-packages (from requests) (2.3.0)\n",
      "Requirement already satisfied: certifi>=2017.4.17 in c:\\users\\user\\appdata\\local\\programs\\python\\python313\\lib\\site-packages (from requests) (2024.12.14)\n",
      "Requirement already satisfied: soupsieve>1.2 in c:\\users\\user\\appdata\\local\\programs\\python\\python313\\lib\\site-packages (from beautifulsoup4) (2.6)\n",
      "Requirement already satisfied: numpy>=1.26.0 in c:\\users\\user\\appdata\\local\\programs\\python\\python313\\lib\\site-packages (from pandas) (2.2.1)\n",
      "Requirement already satisfied: python-dateutil>=2.8.2 in c:\\users\\user\\appdata\\local\\programs\\python\\python313\\lib\\site-packages (from pandas) (2.9.0.post0)\n",
      "Requirement already satisfied: pytz>=2020.1 in c:\\users\\user\\appdata\\local\\programs\\python\\python313\\lib\\site-packages (from pandas) (2024.2)\n",
      "Requirement already satisfied: tzdata>=2022.7 in c:\\users\\user\\appdata\\local\\programs\\python\\python313\\lib\\site-packages (from pandas) (2024.2)\n",
      "Requirement already satisfied: six>=1.5 in c:\\users\\user\\appdata\\local\\programs\\python\\python313\\lib\\site-packages (from python-dateutil>=2.8.2->pandas) (1.17.0)\n"
     ]
    }
   ],
   "source": [
    "!pip install requests beautifulsoup4 pandas"
   ]
  },
  {
   "cell_type": "code",
   "execution_count": 51,
   "id": "a26a2703-3c65-4158-91fd-372653d37ed2",
   "metadata": {},
   "outputs": [],
   "source": [
    "import requests\n",
    "from bs4 import BeautifulSoup\n",
    "import pandas as pd"
   ]
  },
  {
   "cell_type": "code",
   "execution_count": 52,
   "id": "e6601d53-5f46-4a04-9150-f089dbfebeb7",
   "metadata": {},
   "outputs": [],
   "source": [
    "url = \"https://www.macrotrends.net/stocks/charts/TSLA/tesla/revenue\""
   ]
  },
  {
   "cell_type": "code",
   "execution_count": 53,
   "id": "2f11ac71-0dd8-440e-8e91-019b2c4eea8f",
   "metadata": {},
   "outputs": [
    {
     "name": "stdout",
     "output_type": "stream",
     "text": [
      "Erro ao acessar a página: 403\n"
     ]
    }
   ],
   "source": [
    "response = requests.get(url)\n",
    "if response.status_code == 200:\n",
    "    print(\"Página acessada com sucesso!\")\n",
    "else:\n",
    "    print(f\"Erro ao acessar a página: {response.status_code}\")"
   ]
  },
  {
   "cell_type": "code",
   "execution_count": 54,
   "id": "7dc75145-269b-4f2a-84c9-58913600fd1b",
   "metadata": {},
   "outputs": [],
   "source": [
    "headers = {\n",
    "    \"User-Agent\": \"Mozilla/5.0 (Windows NT 10.0; Win64; x64) AppleWebKit/537.36 (KHTML, like Gecko) Chrome/112.0.0.0 Safari/537.36\"\n",
    "}"
   ]
  },
  {
   "cell_type": "code",
   "execution_count": 55,
   "id": "86b30559-7c5a-4f4a-9686-144e845135dc",
   "metadata": {},
   "outputs": [
    {
     "name": "stdout",
     "output_type": "stream",
     "text": [
      "Página acessada com sucesso!\n"
     ]
    }
   ],
   "source": [
    "response = requests.get(url, headers=headers)\n",
    "if response.status_code == 200:\n",
    "    print(\"Página acessada com sucesso!\")\n",
    "else:\n",
    "    print(f\"Erro ao acessar a página: {response.status_code}\")"
   ]
  },
  {
   "cell_type": "code",
   "execution_count": 66,
   "id": "842506f6-250f-45f5-a4f5-40cf5962f676",
   "metadata": {},
   "outputs": [
    {
     "name": "stdout",
     "output_type": "stream",
     "text": [
      "   Date  Revenue\n",
      "0  2023  $96,773\n",
      "1  2022  $81,462\n",
      "2  2021  $53,823\n",
      "3  2020  $31,536\n",
      "4  2019  $24,578\n",
      "Dados salvos no arquivo 'tesla_revenue.csv'.\n"
     ]
    }
   ],
   "source": [
    "# Analisar o conteúdo da página com BeautifulSoup\n",
    "soup = BeautifulSoup(response.content, \"html.parser\")\n",
    "\n",
    "# Localizar a tabela de receita\n",
    "revenue_table = soup.find(\"table\", {\"class\": \"historical_data_table\"})\n",
    "if revenue_table:\n",
    "    # Extrair as linhas da tabela\n",
    "    rows = revenue_table.find_all(\"tr\")[1:]  # Ignorar o cabeçalho\n",
    "    tesla_revenue = []\n",
    "\n",
    "    for row in rows:\n",
    "        cols = row.find_all(\"td\")\n",
    "        if len(cols) == 2:  # Garantir que há duas colunas\n",
    "            date = cols[0].text.strip()  # Data\n",
    "            revenue = cols[1].text.strip()  # Receita\n",
    "            tesla_revenue.append({\"Date\": date, \"Revenue\": revenue})\n",
    "\n",
    "    # Converter os dados para um DataFrame do Pandas\n",
    "    tesla_revenue_df = pd.DataFrame(tesla_revenue)\n",
    "    print(tesla_revenue_df.head())  # Mostrar as 5 primeiras linhas\n",
    "\n",
    "    # Salvar em um arquivo CSV (opcional)\n",
    "    tesla_revenue_df.to_csv(\"tesla_revenue.csv\", index=False)\n",
    "    print(\"Dados salvos no arquivo 'tesla_revenue.csv'.\")\n",
    "else:\n",
    "    print(\"Tabela de receita não encontrada.\")\n"
   ]
  },
  {
   "cell_type": "code",
   "execution_count": 67,
   "id": "6aeb4fc5-f5d4-4bd1-a5e9-b970fad976d0",
   "metadata": {
    "scrolled": true
   },
   "outputs": [
    {
     "name": "stdout",
     "output_type": "stream",
     "text": [
      "Requirement already satisfied: yfinance in c:\\users\\user\\appdata\\local\\programs\\python\\python313\\lib\\site-packages (0.2.52)\n",
      "Requirement already satisfied: pandas>=1.3.0 in c:\\users\\user\\appdata\\local\\programs\\python\\python313\\lib\\site-packages (from yfinance) (2.2.3)\n",
      "Requirement already satisfied: numpy>=1.16.5 in c:\\users\\user\\appdata\\local\\programs\\python\\python313\\lib\\site-packages (from yfinance) (2.2.1)\n",
      "Requirement already satisfied: requests>=2.31 in c:\\users\\user\\appdata\\local\\programs\\python\\python313\\lib\\site-packages (from yfinance) (2.32.3)\n",
      "Requirement already satisfied: multitasking>=0.0.7 in c:\\users\\user\\appdata\\local\\programs\\python\\python313\\lib\\site-packages (from yfinance) (0.0.11)\n",
      "Requirement already satisfied: lxml>=4.9.1 in c:\\users\\user\\appdata\\local\\programs\\python\\python313\\lib\\site-packages (from yfinance) (5.3.0)\n",
      "Requirement already satisfied: platformdirs>=2.0.0 in c:\\users\\user\\appdata\\local\\programs\\python\\python313\\lib\\site-packages (from yfinance) (4.3.6)\n",
      "Requirement already satisfied: pytz>=2022.5 in c:\\users\\user\\appdata\\local\\programs\\python\\python313\\lib\\site-packages (from yfinance) (2024.2)\n",
      "Requirement already satisfied: frozendict>=2.3.4 in c:\\users\\user\\appdata\\local\\programs\\python\\python313\\lib\\site-packages (from yfinance) (2.4.6)\n",
      "Requirement already satisfied: peewee>=3.16.2 in c:\\users\\user\\appdata\\local\\programs\\python\\python313\\lib\\site-packages (from yfinance) (3.17.8)\n",
      "Requirement already satisfied: beautifulsoup4>=4.11.1 in c:\\users\\user\\appdata\\local\\programs\\python\\python313\\lib\\site-packages (from yfinance) (4.12.3)\n",
      "Requirement already satisfied: html5lib>=1.1 in c:\\users\\user\\appdata\\local\\programs\\python\\python313\\lib\\site-packages (from yfinance) (1.1)\n",
      "Requirement already satisfied: soupsieve>1.2 in c:\\users\\user\\appdata\\local\\programs\\python\\python313\\lib\\site-packages (from beautifulsoup4>=4.11.1->yfinance) (2.6)\n",
      "Requirement already satisfied: six>=1.9 in c:\\users\\user\\appdata\\local\\programs\\python\\python313\\lib\\site-packages (from html5lib>=1.1->yfinance) (1.17.0)\n",
      "Requirement already satisfied: webencodings in c:\\users\\user\\appdata\\local\\programs\\python\\python313\\lib\\site-packages (from html5lib>=1.1->yfinance) (0.5.1)\n",
      "Requirement already satisfied: python-dateutil>=2.8.2 in c:\\users\\user\\appdata\\local\\programs\\python\\python313\\lib\\site-packages (from pandas>=1.3.0->yfinance) (2.9.0.post0)\n",
      "Requirement already satisfied: tzdata>=2022.7 in c:\\users\\user\\appdata\\local\\programs\\python\\python313\\lib\\site-packages (from pandas>=1.3.0->yfinance) (2024.2)\n",
      "Requirement already satisfied: charset-normalizer<4,>=2 in c:\\users\\user\\appdata\\local\\programs\\python\\python313\\lib\\site-packages (from requests>=2.31->yfinance) (3.4.1)\n",
      "Requirement already satisfied: idna<4,>=2.5 in c:\\users\\user\\appdata\\local\\programs\\python\\python313\\lib\\site-packages (from requests>=2.31->yfinance) (3.10)\n",
      "Requirement already satisfied: urllib3<3,>=1.21.1 in c:\\users\\user\\appdata\\local\\programs\\python\\python313\\lib\\site-packages (from requests>=2.31->yfinance) (2.3.0)\n",
      "Requirement already satisfied: certifi>=2017.4.17 in c:\\users\\user\\appdata\\local\\programs\\python\\python313\\lib\\site-packages (from requests>=2.31->yfinance) (2024.12.14)\n"
     ]
    }
   ],
   "source": [
    "!pip install yfinance"
   ]
  },
  {
   "cell_type": "code",
   "execution_count": 68,
   "id": "d4d07251-230b-428b-8fcd-68aaf9e3e883",
   "metadata": {},
   "outputs": [
    {
     "name": "stderr",
     "output_type": "stream",
     "text": [
      "[*********************100%***********************]  1 of 1 completed"
     ]
    },
    {
     "name": "stdout",
     "output_type": "stream",
     "text": [
      "Price          Close      High       Low      Open     Volume\n",
      "Ticker           GME       GME       GME       GME        GME\n",
      "Date                                                         \n",
      "2010-01-04  3.854643  3.863059  3.703150  3.714933   26702800\n",
      "2010-01-05  3.959005  3.996036  3.854643  3.856326   21269600\n",
      "2010-01-06  4.044850  4.056633  3.908507  3.948905   21471200\n",
      "2010-01-07  3.443930  3.563441  3.268872  3.368184  164761200\n",
      "2010-01-08  3.415314  3.573540  3.405215  3.474228   47872400\n"
     ]
    },
    {
     "name": "stderr",
     "output_type": "stream",
     "text": [
      "\n"
     ]
    }
   ],
   "source": [
    "import yfinance as yf\n",
    "\n",
    "# Definir o ticker da GameStop\n",
    "gme_ticker = 'GME'\n",
    "\n",
    "# Baixar os dados históricos das ações da GameStop\n",
    "gme_data = yf.download(gme_ticker, start=\"2010-01-01\", end=\"2025-01-01\")\n",
    "\n",
    "# Mostrar as primeiras linhas dos dados\n",
    "print(gme_data.head())"
   ]
  },
  {
   "cell_type": "code",
   "execution_count": 69,
   "id": "c13daf02-88b8-4731-8fe6-daecc0e73475",
   "metadata": {},
   "outputs": [
    {
     "name": "stdout",
     "output_type": "stream",
     "text": [
      "Requirement already satisfied: requests in c:\\users\\user\\appdata\\local\\programs\\python\\python313\\lib\\site-packages (2.32.3)\n",
      "Requirement already satisfied: beautifulsoup4 in c:\\users\\user\\appdata\\local\\programs\\python\\python313\\lib\\site-packages (4.12.3)\n",
      "Requirement already satisfied: charset-normalizer<4,>=2 in c:\\users\\user\\appdata\\local\\programs\\python\\python313\\lib\\site-packages (from requests) (3.4.1)\n",
      "Requirement already satisfied: idna<4,>=2.5 in c:\\users\\user\\appdata\\local\\programs\\python\\python313\\lib\\site-packages (from requests) (3.10)\n",
      "Requirement already satisfied: urllib3<3,>=1.21.1 in c:\\users\\user\\appdata\\local\\programs\\python\\python313\\lib\\site-packages (from requests) (2.3.0)\n",
      "Requirement already satisfied: certifi>=2017.4.17 in c:\\users\\user\\appdata\\local\\programs\\python\\python313\\lib\\site-packages (from requests) (2024.12.14)\n",
      "Requirement already satisfied: soupsieve>1.2 in c:\\users\\user\\appdata\\local\\programs\\python\\python313\\lib\\site-packages (from beautifulsoup4) (2.6)\n"
     ]
    }
   ],
   "source": [
    "!pip install requests beautifulsoup4"
   ]
  },
  {
   "cell_type": "code",
   "execution_count": 71,
   "id": "ab32ccd4-3a56-4cc1-b02b-d20513b49728",
   "metadata": {},
   "outputs": [
    {
     "name": "stdout",
     "output_type": "stream",
     "text": [
      "Página acessada com sucesso!\n",
      "   Date Revenue\n",
      "0  2024  $5,273\n",
      "1  2023  $5,927\n",
      "2  2022  $6,011\n",
      "3  2021  $5,090\n",
      "4  2020  $6,466\n",
      "Dados salvos no arquivo 'gamestop_revenue.csv'.\n"
     ]
    }
   ],
   "source": [
    "import requests\n",
    "from bs4 import BeautifulSoup\n",
    "import pandas as pd\n",
    "\n",
    "# URL da página de receitas da GameStop\n",
    "url = \"https://www.macrotrends.net/stocks/charts/GME/gamestop/revenue\"\n",
    "\n",
    "# Adicionando um cabeçalho 'User-Agent' para simular um navegador\n",
    "headers = {\n",
    "    \"User-Agent\": \"Mozilla/5.0 (Windows NT 10.0; Win64; x64) AppleWebKit/537.36 (KHTML, like Gecko) Chrome/91.0.4472.124 Safari/537.36\"\n",
    "}\n",
    "\n",
    "# Fazer a requisição para acessar a página\n",
    "response = requests.get(url, headers=headers)\n",
    "\n",
    "# Verificar se a página foi acessada com sucesso\n",
    "if response.status_code == 200:\n",
    "    print(\"Página acessada com sucesso!\")\n",
    "else:\n",
    "    print(f\"Erro ao acessar a página: {response.status_code}\")\n",
    "\n",
    "# Analisar o conteúdo da página com BeautifulSoup\n",
    "soup = BeautifulSoup(response.content, \"html.parser\")\n",
    "\n",
    "# Encontrar a tabela de receita na página\n",
    "revenue_table = soup.find(\"table\", {\"class\": \"historical_data_table\"})\n",
    "if revenue_table:\n",
    "    # Extrair as linhas da tabela\n",
    "    rows = revenue_table.find_all(\"tr\")[1:]  # Ignorar o cabeçalho\n",
    "    gamestop_revenue = []\n",
    "\n",
    "    for row in rows:\n",
    "        cols = row.find_all(\"td\")\n",
    "        if len(cols) == 2:  # Garantir que há duas colunas\n",
    "            date = cols[0].text.strip()  # Data\n",
    "            revenue = cols[1].text.strip()  # Receita\n",
    "            gamestop_revenue.append({\"Date\": date, \"Revenue\": revenue})\n",
    "\n",
    "    # Converter os dados para um DataFrame do Pandas\n",
    "    gamestop_revenue_df = pd.DataFrame(gamestop_revenue)\n",
    "    print(gamestop_revenue_df.head())  # Mostrar as 5 primeiras linhas\n",
    "\n",
    "    # Salvar os dados em um arquivo CSV\n",
    "    gamestop_revenue_df.to_csv(\"gamestop_revenue.csv\", index=False)\n",
    "    print(\"Dados salvos no arquivo 'gamestop_revenue.csv'.\")\n",
    "else:\n",
    "    print(\"Tabela de receita não encontrada.\")\n"
   ]
  },
  {
   "cell_type": "code",
   "execution_count": 92,
   "id": "d8e47c1f-e282-4e50-80cc-dbbdd022470f",
   "metadata": {},
   "outputs": [
    {
     "name": "stderr",
     "output_type": "stream",
     "text": [
      "[*********************100%***********************]  1 of 1 completed\n"
     ]
    },
    {
     "data": {
      "text/html": [
       "<div>\n",
       "<style scoped>\n",
       "    .dataframe tbody tr th:only-of-type {\n",
       "        vertical-align: middle;\n",
       "    }\n",
       "\n",
       "    .dataframe tbody tr th {\n",
       "        vertical-align: top;\n",
       "    }\n",
       "\n",
       "    .dataframe thead tr th {\n",
       "        text-align: left;\n",
       "    }\n",
       "\n",
       "    .dataframe thead tr:last-of-type th {\n",
       "        text-align: right;\n",
       "    }\n",
       "</style>\n",
       "<table border=\"1\" class=\"dataframe\">\n",
       "  <thead>\n",
       "    <tr>\n",
       "      <th>Price</th>\n",
       "      <th>Close</th>\n",
       "      <th>High</th>\n",
       "      <th>Low</th>\n",
       "      <th>Open</th>\n",
       "      <th>Volume</th>\n",
       "    </tr>\n",
       "    <tr>\n",
       "      <th>Ticker</th>\n",
       "      <th>TSLA</th>\n",
       "      <th>TSLA</th>\n",
       "      <th>TSLA</th>\n",
       "      <th>TSLA</th>\n",
       "      <th>TSLA</th>\n",
       "    </tr>\n",
       "    <tr>\n",
       "      <th>Date</th>\n",
       "      <th></th>\n",
       "      <th></th>\n",
       "      <th></th>\n",
       "      <th></th>\n",
       "      <th></th>\n",
       "    </tr>\n",
       "  </thead>\n",
       "  <tbody>\n",
       "    <tr>\n",
       "      <th>2010-06-29</th>\n",
       "      <td>1.592667</td>\n",
       "      <td>1.666667</td>\n",
       "      <td>1.169333</td>\n",
       "      <td>1.266667</td>\n",
       "      <td>281494500</td>\n",
       "    </tr>\n",
       "    <tr>\n",
       "      <th>2010-06-30</th>\n",
       "      <td>1.588667</td>\n",
       "      <td>2.028000</td>\n",
       "      <td>1.553333</td>\n",
       "      <td>1.719333</td>\n",
       "      <td>257806500</td>\n",
       "    </tr>\n",
       "    <tr>\n",
       "      <th>2010-07-01</th>\n",
       "      <td>1.464000</td>\n",
       "      <td>1.728000</td>\n",
       "      <td>1.351333</td>\n",
       "      <td>1.666667</td>\n",
       "      <td>123282000</td>\n",
       "    </tr>\n",
       "    <tr>\n",
       "      <th>2010-07-02</th>\n",
       "      <td>1.280000</td>\n",
       "      <td>1.540000</td>\n",
       "      <td>1.247333</td>\n",
       "      <td>1.533333</td>\n",
       "      <td>77097000</td>\n",
       "    </tr>\n",
       "    <tr>\n",
       "      <th>2010-07-06</th>\n",
       "      <td>1.074000</td>\n",
       "      <td>1.333333</td>\n",
       "      <td>1.055333</td>\n",
       "      <td>1.333333</td>\n",
       "      <td>103003500</td>\n",
       "    </tr>\n",
       "  </tbody>\n",
       "</table>\n",
       "</div>"
      ],
      "text/plain": [
       "Price          Close      High       Low      Open     Volume\n",
       "Ticker          TSLA      TSLA      TSLA      TSLA       TSLA\n",
       "Date                                                         \n",
       "2010-06-29  1.592667  1.666667  1.169333  1.266667  281494500\n",
       "2010-06-30  1.588667  2.028000  1.553333  1.719333  257806500\n",
       "2010-07-01  1.464000  1.728000  1.351333  1.666667  123282000\n",
       "2010-07-02  1.280000  1.540000  1.247333  1.533333   77097000\n",
       "2010-07-06  1.074000  1.333333  1.055333  1.333333  103003500"
      ]
     },
     "execution_count": 92,
     "metadata": {},
     "output_type": "execute_result"
    }
   ],
   "source": [
    "import yfinance as yf\n",
    "import pandas as pd\n",
    "\n",
    "# Baixar os dados históricos de ações da Tesla\n",
    "tesla_stock = yf.download('TSLA', start='2010-01-01', end='2023-12-31')\n",
    "\n",
    "# Exibir as primeiras linhas dos dados\n",
    "tesla_stock.head()\n"
   ]
  },
  {
   "cell_type": "code",
   "execution_count": 94,
   "id": "fa4ab1a8-9fbe-4dc9-b5fa-c9e707627fe3",
   "metadata": {},
   "outputs": [
    {
     "name": "stdout",
     "output_type": "stream",
     "text": [
      "MultiIndex([( 'Close', 'TSLA'),\n",
      "            (  'High', 'TSLA'),\n",
      "            (   'Low', 'TSLA'),\n",
      "            (  'Open', 'TSLA'),\n",
      "            ('Volume', 'TSLA'),\n",
      "            (  'Year',     '')],\n",
      "           names=['Price', 'Ticker'])\n"
     ]
    }
   ],
   "source": [
    "# Verifique as colunas disponíveis no seu DataFrame de ações\n",
    "print(tesla_stock.columns)\n"
   ]
  },
  {
   "cell_type": "code",
   "execution_count": 95,
   "id": "9e4e02e2-63f4-4bdd-ad26-748fcc9611d9",
   "metadata": {},
   "outputs": [
    {
     "name": "stdout",
     "output_type": "stream",
     "text": [
      "Price       Close\n",
      "Ticker       TSLA\n",
      "Year             \n",
      "2010     1.775333\n",
      "2011     1.904000\n",
      "2012     2.258000\n",
      "2013    10.028667\n",
      "2014    14.827333\n"
     ]
    }
   ],
   "source": [
    "# Primeiro, confira a estrutura dos dados\n",
    "tesla_stock.columns\n",
    "\n",
    "# Usar o nome correto da coluna\n",
    "tesla_annual_stock_data = tesla_stock.groupby('Year')['Close'].last()  # Usando 'Close' já que 'Adj Close' não está presente\n",
    "\n",
    "# Exibir os dados agrupados\n",
    "print(tesla_annual_stock_data.head())\n"
   ]
  },
  {
   "cell_type": "code",
   "execution_count": 98,
   "id": "c3e7a05a-e0e8-4e9b-8586-1054dadc1900",
   "metadata": {},
   "outputs": [
    {
     "name": "stdout",
     "output_type": "stream",
     "text": [
      "            Revenue\n",
      "Date               \n",
      "2023-01-01  96773.0\n",
      "2022-01-01  81462.0\n",
      "2021-01-01  53823.0\n",
      "2020-01-01  31536.0\n",
      "2019-01-01  24578.0\n",
      "Index(['Revenue'], dtype='object')\n",
      "DatetimeIndex(['2023-01-01', '2022-01-01', '2021-01-01', '2020-01-01',\n",
      "               '2019-01-01', '2018-01-01', '2017-01-01', '2016-01-01',\n",
      "               '2015-01-01', '2014-01-01', '2013-01-01', '2012-01-01',\n",
      "               '2011-01-01', '2010-01-01', '2009-01-01'],\n",
      "              dtype='datetime64[ns]', name='Date', freq=None)\n"
     ]
    }
   ],
   "source": [
    "# Verificando as colunas e o índice de tesla_revenue_df\n",
    "print(tesla_revenue_df.head())\n",
    "print(tesla_revenue_df.columns)\n",
    "print(tesla_revenue_df.index)\n"
   ]
  },
  {
   "cell_type": "code",
   "execution_count": 99,
   "id": "6dfa4c0c-26aa-452e-9841-8b72e0e5da33",
   "metadata": {},
   "outputs": [
    {
     "name": "stdout",
     "output_type": "stream",
     "text": [
      "   Revenue  Year\n",
      "0  96773.0  2023\n",
      "1  81462.0  2022\n",
      "2  53823.0  2021\n",
      "3  31536.0  2020\n",
      "4  24578.0  2019\n"
     ]
    }
   ],
   "source": [
    "# Extraindo o ano do índice de data\n",
    "tesla_revenue_df['Year'] = tesla_revenue_df.index.year\n",
    "\n",
    "# Resetando o índice para garantir que o 'Year' seja uma coluna regular\n",
    "tesla_revenue_df = tesla_revenue_df.reset_index(drop=True)\n",
    "\n",
    "# Verificando as primeiras linhas para garantir que está correto\n",
    "print(tesla_revenue_df.head())\n"
   ]
  },
  {
   "cell_type": "code",
   "execution_count": 109,
   "id": "f62400ac-7914-4611-bd3e-ad8c3dead789",
   "metadata": {},
   "outputs": [
    {
     "name": "stdout",
     "output_type": "stream",
     "text": [
      "Requirement already satisfied: seaborn in c:\\users\\user\\appdata\\local\\programs\\python\\python313\\lib\\site-packages (0.13.2)\n",
      "Requirement already satisfied: numpy!=1.24.0,>=1.20 in c:\\users\\user\\appdata\\local\\programs\\python\\python313\\lib\\site-packages (from seaborn) (2.2.1)\n",
      "Requirement already satisfied: pandas>=1.2 in c:\\users\\user\\appdata\\local\\programs\\python\\python313\\lib\\site-packages (from seaborn) (2.2.3)\n",
      "Requirement already satisfied: matplotlib!=3.6.1,>=3.4 in c:\\users\\user\\appdata\\local\\programs\\python\\python313\\lib\\site-packages (from seaborn) (3.10.0)\n",
      "Requirement already satisfied: contourpy>=1.0.1 in c:\\users\\user\\appdata\\local\\programs\\python\\python313\\lib\\site-packages (from matplotlib!=3.6.1,>=3.4->seaborn) (1.3.1)\n",
      "Requirement already satisfied: cycler>=0.10 in c:\\users\\user\\appdata\\local\\programs\\python\\python313\\lib\\site-packages (from matplotlib!=3.6.1,>=3.4->seaborn) (0.12.1)\n",
      "Requirement already satisfied: fonttools>=4.22.0 in c:\\users\\user\\appdata\\local\\programs\\python\\python313\\lib\\site-packages (from matplotlib!=3.6.1,>=3.4->seaborn) (4.55.3)\n",
      "Requirement already satisfied: kiwisolver>=1.3.1 in c:\\users\\user\\appdata\\local\\programs\\python\\python313\\lib\\site-packages (from matplotlib!=3.6.1,>=3.4->seaborn) (1.4.8)\n",
      "Requirement already satisfied: packaging>=20.0 in c:\\users\\user\\appdata\\local\\programs\\python\\python313\\lib\\site-packages (from matplotlib!=3.6.1,>=3.4->seaborn) (24.2)\n",
      "Requirement already satisfied: pillow>=8 in c:\\users\\user\\appdata\\local\\programs\\python\\python313\\lib\\site-packages (from matplotlib!=3.6.1,>=3.4->seaborn) (11.1.0)\n",
      "Requirement already satisfied: pyparsing>=2.3.1 in c:\\users\\user\\appdata\\local\\programs\\python\\python313\\lib\\site-packages (from matplotlib!=3.6.1,>=3.4->seaborn) (3.2.1)\n",
      "Requirement already satisfied: python-dateutil>=2.7 in c:\\users\\user\\appdata\\local\\programs\\python\\python313\\lib\\site-packages (from matplotlib!=3.6.1,>=3.4->seaborn) (2.9.0.post0)\n",
      "Requirement already satisfied: pytz>=2020.1 in c:\\users\\user\\appdata\\local\\programs\\python\\python313\\lib\\site-packages (from pandas>=1.2->seaborn) (2024.2)\n",
      "Requirement already satisfied: tzdata>=2022.7 in c:\\users\\user\\appdata\\local\\programs\\python\\python313\\lib\\site-packages (from pandas>=1.2->seaborn) (2024.2)\n",
      "Requirement already satisfied: six>=1.5 in c:\\users\\user\\appdata\\local\\programs\\python\\python313\\lib\\site-packages (from python-dateutil>=2.7->matplotlib!=3.6.1,>=3.4->seaborn) (1.17.0)\n",
      "Note: you may need to restart the kernel to use updated packages.\n"
     ]
    }
   ],
   "source": [
    "pip install seaborn"
   ]
  },
  {
   "cell_type": "code",
   "execution_count": 110,
   "id": "bccbb14a-107b-430e-b98b-7f05be8e4882",
   "metadata": {},
   "outputs": [
    {
     "data": {
      "image/png": "[encoded data removed]",
      "text/plain": [
       "<Figure size 1000x600 with 2 Axes>"
      ]
     },
     "metadata": {},
     "output_type": "display_data"
    }
   ],
   "source": [
    "import seaborn as sns\n",
    "import matplotlib.pyplot as plt\n",
    "import pandas as pd\n",
    "\n",
    "# Dados fictícios\n",
    "tesla_revenue_df = pd.DataFrame({\n",
    "    'Year': [2010, 2011, 2012, 2013, 2014],\n",
    "    'Revenue': [1162, 2027, 4130, 5610, 8190]  # valores fictícios\n",
    "})\n",
    "\n",
    "tesla_annual_stock_data = pd.DataFrame({\n",
    "    'Year': [2010, 2011, 2012, 2013, 2014],\n",
    "    'Close': [1.77, 1.90, 2.25, 10.03, 14.83]  # valores fictícios\n",
    "})\n",
    "\n",
    "# Criar o gráfico com Seaborn\n",
    "fig, ax1 = plt.subplots(figsize=(10, 6))\n",
    "\n",
    "# Gráfico de Receita (usando Seaborn)\n",
    "sns.lineplot(x='Year', y='Revenue', data=tesla_revenue_df, ax=ax1, color='blue', label='Receita', marker='o')\n",
    "\n",
    "# Criar um segundo eixo Y para o gráfico de preço das ações\n",
    "ax2 = ax1.twinx()\n",
    "\n",
    "# Gráfico de Preço das Ações (usando Seaborn)\n",
    "sns.lineplot(x='Year', y='Close', data=tesla_annual_stock_data, ax=ax2, color='red', label='Preço da Ação TSLA', marker='s')\n",
    "\n",
    "# Definir rótulos\n",
    "ax1.set_xlabel('Ano')\n",
    "ax1.set_ylabel('Receita (milhões)', color='blue')\n",
    "ax2.set_ylabel('Preço da Ação (USD)', color='red')\n",
    "\n",
    "# Ajustar as cores dos eixos Y\n",
    "ax1.tick_params(axis='y', labelcolor='blue')\n",
    "ax2.tick_params(axis='y', labelcolor='red')\n",
    "\n",
    "# Título\n",
    "ax1.set_title('Painel de Estoque e Receita da Tesla')\n",
    "\n",
    "# Legendas\n",
    "ax1.legend(loc='upper left')\n",
    "ax2.legend(loc='upper right')\n",
    "\n",
    "# Exibir o gráfico\n",
    "plt.show()\n"
   ]
  },
  {
   "cell_type": "code",
   "execution_count": 111,
   "id": "4d7f9c67-c536-45d5-a000-f3ce3f562d94",
   "metadata": {},
   "outputs": [
    {
     "data": {
      "image/png": "[encoded data removed]",
      "text/plain": [
       "<Figure size 1000x600 with 2 Axes>"
      ]
     },
     "metadata": {},
     "output_type": "display_data"
    }
   ],
   "source": [
    "import seaborn as sns\n",
    "import matplotlib.pyplot as plt\n",
    "import pandas as pd\n",
    "\n",
    "# Dados fictícios de receita e preço das ações da GameStop\n",
    "gamestop_revenue_df = pd.DataFrame({\n",
    "    'Year': [2010, 2011, 2012, 2013, 2014],\n",
    "    'Revenue': [8000, 9000, 10000, 12000, 13000]  # valores fictícios\n",
    "})\n",
    "\n",
    "gamestop_annual_stock_data = pd.DataFrame({\n",
    "    'Year': [2010, 2011, 2012, 2013, 2014],\n",
    "    'Close': [20, 25, 40, 55, 60]  # valores fictícios de preço de ação\n",
    "})\n",
    "\n",
    "# Criar o gráfico com Seaborn\n",
    "fig, ax1 = plt.subplots(figsize=(10, 6))\n",
    "\n",
    "# Gráfico de Receita (usando Seaborn)\n",
    "sns.lineplot(x='Year', y='Revenue', data=gamestop_revenue_df, ax=ax1, color='blue', label='Receita', marker='o')\n",
    "\n",
    "# Criar um segundo eixo Y para o gráfico de preço das ações\n",
    "ax2 = ax1.twinx()\n",
    "\n",
    "# Gráfico de Preço das Ações (usando Seaborn)\n",
    "sns.lineplot(x='Year', y='Close', data=gamestop_annual_stock_data, ax=ax2, color='green', label='Preço da Ação GME', marker='s')\n",
    "\n",
    "# Definir rótulos\n",
    "ax1.set_xlabel('Ano')\n",
    "ax1.set_ylabel('Receita (milhões)', color='blue')\n",
    "ax2.set_ylabel('Preço da Ação (USD)', color='green')\n",
    "\n",
    "# Ajustar as cores dos eixos Y\n",
    "ax1.tick_params(axis='y', labelcolor='blue')\n",
    "ax2.tick_params(axis='y', labelcolor='green')\n",
    "\n",
    "# Título\n",
    "ax1.set_title('Painel de Estoque e Receita da GameStop')\n",
    "\n",
    "# Legendas\n",
    "ax1.legend(loc='upper left')\n",
    "ax2.legend(loc='upper right')\n",
    "\n",
    "# Exibir o gráfico\n",
    "plt.show()\n"
   ]
  },
  {
   "cell_type": "code",
   "execution_count": null,
   "id": "7961459e-af0d-429a-ad4f-fb1bc024aadd",
   "metadata": {},
   "outputs": [],
   "source": []
  }
 ],
 "metadata": {
  "kernelspec": {
   "display_name": "Python 3 (ipykernel)",
   "language": "python",
   "name": "python3"
  },
  "language_info": {
   "codemirror_mode": {
    "name": "ipython",
    "version": 3
   },
   "file_extension": ".py",
   "mimetype": "text/x-python",
   "name": "python",
   "nbconvert_exporter": "python",
   "pygments_lexer": "ipython3",
   "version": "3.13.1"
  }
 },
 "nbformat": 4,
 "nbformat_minor": 5
}
